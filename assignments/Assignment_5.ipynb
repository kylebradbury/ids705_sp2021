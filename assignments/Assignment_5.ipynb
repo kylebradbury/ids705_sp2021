{
 "cells": [
  {
   "cell_type": "markdown",
   "metadata": {},
   "source": [
    "# Assignment 5 - Kaggle Competition and Unsupervised Learning\n",
    "Version 1.1 2021.3.21"
   ]
  },
  {
   "cell_type": "markdown",
   "metadata": {},
   "source": [
    "## *YOUR FULL NAME HERE*\n",
    "Netid: Your netid here"
   ]
  },
  {
   "cell_type": "markdown",
   "metadata": {},
   "source": [
    "Instructions for all assignments can be found [here](https://github.com/kylebradbury/ids705/blob/master/assignments/_Assignment%20Instructions.ipynb), which is also linked to from the [course syllabus](https://kylebradbury.github.io/ids705/index.html)."
   ]
  },
  {
   "cell_type": "markdown",
   "metadata": {},
   "source": [
    "# Learning objectives\n",
    "Through completing this assignment you will be able to...\n",
    "1. Apply the full supervised machine learning pipeline of preprocessing, model selection, model performance evaluation and comparison, and model application to a real-world scale dataset\n",
    "2. Apply clustering techniques to a variety of datasets with diverse distributional properties, gaining an understanding of their strengths and weaknesses and how to tune model parameters.\n",
    "3. Apply PCA and t-SNE for performing dimensionality reduction and data visualization"
   ]
  },
  {
   "cell_type": "markdown",
   "metadata": {},
   "source": [
    "# 1\n",
    "\n",
    "## [60 points] Kaggle Classification Competition\n",
    "\n",
    "You've learned a great deal about supervised learning and now it's time to bring together all that you've learned. You will be competing in a Kaggle Competition along with the rest of the class! Your goal is to predict hotel reservation cancellations based on a number of potentially related factors such as lead time on the booking, time of year, type of room, special requests made, number of children, etc. \n",
    "\n",
    "### IMPORTANT: Follow the link posted on Piazza to register for the competition\n",
    "You can view the public leaderboard anytime [here](https://www.kaggle.com/c/ids705-a5-q1/leaderboard)\n",
    "\n",
    "**The Data**. The dataset is provided as `a5_q1.pkl` which is a pickle file format, which allows you to load the data directly using the code below. A data dictionary for the project can be found [here](https://github.com/rfordatascience/tidytuesday/blob/master/data/2020/2020-02-11/readme.md) and the original paper that describes the dataset can be found [here](https://www.sciencedirect.com/science/article/pii/S2352340918315191). When you load the data, 5 matrices are provided `X_train_original`, `y_train`, and `X_test_original`, which are the original, unprocessed features and labels for the training set and the test features (the test labels are not provided - that's what you're predicting). Additionally, `X_train_ohe` and `X_test_ohe` are provided which are one-hot-encoded (OHE) versions of the data. The OHE versions OHE processed every categorical variable. This is provided for convenience, but you're welcome to reprocess the original data other ways if your prefer.\n",
    "\n",
    "**Scoring**. You will need to achieve a minimum acceptable level of performance to demonstrate proficiency with using these supervised learning techniques. Beyond that, it's an open competition and scoring in the top three places of the *private leaderboard* will result in **5 bonus points in this assignment** (and the honor of having pushed the supervised learning tools to the limit!). Note: the Kaggle leaderboard has a public and private component. The public component is viewable throughout the competition, but the private leaderboard is revealed at the end. When you make a submission, you immediately see your submission on the public leaderboard, but that only represents scoring on a fraction of the total collection of test data, the rest remains hidden until the end of the competition to prevent overfitting to the test data through repeated submissions.\n",
    "\n",
    "### Requirements:\n",
    "\n",
    "**(a) Explore your data.** Review and understand your data. Look at it; read up on what the features represent; think through the application domain; visualize statistics from the paper data to understand any key relationships. **There is no output required for this question**, but you are encouraged to explore the data personally before going further.\n",
    "\n",
    "**(b) Preprocess your data.** Preprocess your data so it's ready for use for classification and describe what you did and why you did it. Preprocessing may include: normalizing data, handling missing or erroneous values, separating out a validation dataset, preparing categorical variables through one-hot-encoding, etc. To make one step in this process easier, you're provided with a one-hot-encoded version of the data already. \n",
    "- Comment on each type of preprocessing that you apply and how you apply it.\n",
    "\n",
    "**(c) Select, train, and compare models.** Fit at least 5 models to the data. Some of these can be experiments with different hyperparameter-tuned versions of the same model, although all 5 should not be the same type of model. There are no constraints on the types of models, but you're encouraged to explore examples we've discussed in class including:\n",
    "\n",
    "1. Logistic regression\n",
    "2. K-nearest neighbors\n",
    "3. Random Forests\n",
    "4. Neural networks\n",
    "5. Support Vector Machines\n",
    "6. Ensembles of models (e.g. model bagging, boosting or stacking). `Scikit-learn` offers a number of tools for assisting with this including those for [bagging](https://scikit-learn.org/stable/modules/generated/sklearn.ensemble.BaggingClassifier.html#sklearn.ensemble.BaggingClassifier), [boosting](https://scikit-learn.org/stable/modules/generated/sklearn.ensemble.GradientBoostingClassifier.html), and [stacking](https://scikit-learn.org/stable/modules/generated/sklearn.ensemble.StackingClassifier.html). You're also welcome to explore options beyond the `sklean` universe; for example, some of you may have heard of [XGBoost](https://github.com/dmlc/xgboost) which is a very fast implementation of gradient boosted decision trees that also allows for parallelization. \n",
    "\n",
    "When selecting models, be aware that some models may take far longer than others to train. Monitor your output and plan your time accordingly. \n",
    "\n",
    "Assess the classification performance and computational efficiency of the models you selected:\n",
    "- Plot the ROC curves and PR curves for your models in two plots: one of ROC curves and one of PR curves. For each of these two plots, compare the performance of the models you selected above and trained on the training data, evaluating them on the validation data. Be sure to plot the line representing random guessing on each plot. One of these models should also be your BEST performing submission on the Kaggle public leaderboard (see below). In the legends of each, include the area under the curve for each model (limit to 3 significant figures). For the ROC curve, this is the AUC; for the PR curve, this is the average precision (AP).\n",
    "- As you train and validate each model time how long it takes to train and validate in each case and create a plot that shows the training and prediction time for each model included in the ROC and PR curves.\n",
    "- Describe: \n",
    "  - Your process of model selection and hyperparameter tuning.\n",
    "  - Which model performed best and your process for identifying it\n",
    "\n",
    "**(d) Apply your model \"in practice\".** Make *at least* 5 submissions of different model results to the competition. These do not need to be the same 5 that you report on above, but should be your 5 *most competitive* models.\n",
    "- Produce submissions by applying your model on the test data\n",
    "- Be sure to RETRAIN YOUR MODEL ON ALL LABELED TRAINING AND VALIDATION DATA before making your predictions on the test data for submission. This will help to maximize your performance on the test data.\n",
    "- In order to get maximum credit on this problem you must achieve an AUC on the Kaggle public leaderboard above 0.95158, otherwise 5 points will be deducted. This AUC is achievable with at least one of the models listed above.\n",
    "\n",
    "### Guidance:\n",
    "1. **Preprocessing**. You may need to preprocess the data for some of these models to perform well (scaling inputs or reducing dimensionality). Some of this preprocessing may differ from model to model to achieve the best performance.\n",
    "2. **Hyperparameters**. Hyperparameters may need to be tuned for some of the model you use. You may want to perform hyperparameter tuning for some of the models. If you experiment with different hyperparameters that include many model runs, you may want to apply them to a small subsample of your overall data before running it on the larger training set.\n",
    "3. **Validation data**. You're encouraged to create your own validation dataset for comparing model performance; without this, there's a significant likelihood of overfitting to the data. A common choice of the split is 80% training, 20% validation. Before you make your final predictions on the test data, be sure to retrain your model on the entire dataset.\n",
    "4. **Training time**. This is a larger dataset than you've worked with previously in this class, so training times may be higher that what you've experienced in the past. Plan ahead and get your model pipeline working early so you can experiment with the models you use for this problem and have time to let them run. \n",
    "\n",
    "### Starter code\n",
    "Below is some code for (1) loading the data and (2) once you have predictions in the form of confidence scores for those classifiers, to produce submission files for Kaggle"
   ]
  },
  {
   "cell_type": "code",
   "execution_count": null,
   "metadata": {},
   "outputs": [],
   "source": [
    "import pandas as pd\n",
    "import numpy as np\n",
    "import pickle\n",
    "\n",
    "################################\n",
    "# Load the data\n",
    "################################\n",
    "data = pickle.load( open( \"./data/a5_q1.pkl\", \"rb\" ) )\n",
    "\n",
    "y_train = data['y_train']\n",
    "X_train_original = data['X_train'] # Original dataset\n",
    "X_train_ohe = data['X_train_ohe']  # One-hot-encoded dataset\n",
    "\n",
    "X_test_original = data['X_test']\n",
    "X_test_ohe = data['X_test_ohe']\n",
    "\n",
    "################################\n",
    "# Produce submission\n",
    "################################\n",
    "\n",
    "def create_submission(confidence_scores, save_path):\n",
    "    '''Creates an output file of submissions for Kaggle\n",
    "    \n",
    "    Parameters\n",
    "    ----------\n",
    "    confidence_scores : list or numpy array\n",
    "        Confidence scores (from predict_proba methods from classifiers) or\n",
    "        binary predictions (only recommended in cases when predict_proba is \n",
    "        not available)\n",
    "    save_path : string\n",
    "        File path for where to save the submission file.\n",
    "    \n",
    "    Example:\n",
    "    create_submission(my_confidence_scores, './data/submission.csv')\n",
    "\n",
    "    '''\n",
    "    import pandas as pd\n",
    "\n",
    "    submission = pd.DataFrame({\"score\":confidence_scores})\n",
    "    submission.to_csv(save_path, index_label=\"id\")"
   ]
  },
  {
   "cell_type": "markdown",
   "metadata": {},
   "source": [
    "**ANSWER**"
   ]
  },
  {
   "cell_type": "markdown",
   "metadata": {},
   "source": [
    "# 2\n",
    "\n",
    "## [40 points] Clustering\n",
    "\n",
    "Clustering can be used to reveal structure between samples of data and assign group membership to similar groups of samples. This exercise will provide you with experience applying clustering algorithms and comparing these techniques on various datasets to experience the pros and cons of these approaches."
   ]
  },
  {
   "cell_type": "markdown",
   "metadata": {},
   "source": [
    "**(a)** Run K-means and choose the number of clusters. Three datasets are provided for you below and the code to load them below. \n",
    "- Scatterplot each dataset\n",
    "- For each dataset run the k-means algorithm for values of $k$ ranging from 1 to 10 and for each plot the \"elbow curve\" where you plot dissimilarity in each case. Here, you can measure dissimilarity using the `inertia_` attribute of the the scikit-learn KMeans algorithm. \n",
    "- For each datasets, where is the elbow in the curve and why? Is the elbow always clearly visible?\n",
    "- Plot your clustered data (different color for each cluster assignment) for your best $k$-means fit determined from the elbow curve for each dataset.\n",
    "\n",
    "**(b)** Apply DBSCAN. Vary the `eps` and `min_samples` parameters to get as close as you can to having the same number of clusters as with K-means. In this case, the black points are points that were not assigned to clusters.\n",
    "\n",
    "**(c)** Apply Spectral Clustering. Select the same number of clusters as selected by k-means.\n",
    "\n",
    "**(d)** Comment on the strengths and weaknesses of each. In particular, mention: \n",
    "- Which technique worked best and worst (as defined by matching how human intuition would cluster the data) on each dataset\n",
    "- How much effort was required to get good clustering for each method (how much parameter tuning needed to be done)"
   ]
  },
  {
   "cell_type": "markdown",
   "metadata": {},
   "source": [
    "*Note: for these clustering plots in this question, do NOT include legends indicating cluster assignment; instead just make sure the cluster assignments are clear from the plot (e.g. different colors for each cluster)*\n",
    "\n",
    "Code is provided below for loading the datasets and for making "
   ]
  },
  {
   "cell_type": "code",
   "execution_count": 5,
   "metadata": {},
   "outputs": [],
   "source": [
    "################################\n",
    "# Load the data\n",
    "################################\n",
    "import os\n",
    "import numpy as np\n",
    "import matplotlib.pyplot as plt\n",
    "from sklearn.datasets import make_blobs, make_moons\n",
    "\n",
    "# Create / load the datasets:\n",
    "n_samples = 1500\n",
    "X0, _ = make_blobs(n_samples=n_samples, centers=2, n_features=2, random_state=0)\n",
    "X1, _ = make_blobs(n_samples=n_samples, centers=5, n_features=2, random_state=0)\n",
    "\n",
    "random_state = 170\n",
    "X, y = make_blobs(n_samples=n_samples, random_state=random_state, cluster_std=1.3)\n",
    "transformation = [[0.6, -0.6], [-0.2, 0.8]]\n",
    "X2 = np.dot(X, transformation)\n",
    "X3, _ = make_blobs(n_samples=n_samples, cluster_std=[1.0, 2.5, 0.5], random_state=random_state)\n",
    "X4, _ = make_moons(n_samples=n_samples, noise=.12)\n",
    "\n",
    "X = [X0, X1, X2, X3, X4]\n",
    "# The datasets are X[i], where i ranges from 0 to 4"
   ]
  },
  {
   "cell_type": "code",
   "execution_count": null,
   "metadata": {},
   "outputs": [],
   "source": [
    "################################\n",
    "# Code to plot clusters\n",
    "################################\n",
    "def plot_cluster(ax, data, cluster_assignments):\n",
    "    '''Plot two-dimensional data clusters\n",
    "    \n",
    "    Parameters\n",
    "    ----------\n",
    "    ax : matplotlib axis\n",
    "        Axis to plot on\n",
    "    data : list or numpy array of size [N x 2] \n",
    "        Clustered data\n",
    "    cluster_assignments : list or numpy array [N]\n",
    "        Cluster assignments for each point in data\n",
    "\n",
    "    '''\n",
    "    clusters = np.unique(cluster_assignments)\n",
    "    n_clusters = len(clusters)\n",
    "    for ca in clusters:\n",
    "        kwargs = {}\n",
    "        if ca == -1:\n",
    "            # if samples are not assigned to a cluster (have a cluster assignment of -1, color them gray)\n",
    "            kwargs = {'color':'gray'}\n",
    "            n_clusters = n_clusters - 1\n",
    "        ax.scatter(data[cluster_assignments==ca, 0], data[cluster_assignments==ca, 1],s=5,alpha=0.5, **kwargs)\n",
    "        ax.set_xlabel('feature 1')\n",
    "        ax.set_ylabel('feature 2')\n",
    "        ax.set_title(f'No. Clusters = {n_clusters}')\n",
    "        ax.axis('equal')"
   ]
  },
  {
   "cell_type": "markdown",
   "metadata": {},
   "source": [
    "**ANSWER**"
   ]
  },
  {
   "cell_type": "markdown",
   "metadata": {},
   "source": [
    "# 3\n",
    "\n",
    "## [5 bonus points] Dimensionality reduction and visualization of digits with PCA and t-SNE\n",
    "\n",
    "**(a)** Reduce the dimensionality of the data with PCA for data visualization. Load the `scikit-learn` digits dataset (code provided to do this below). Apply PCA and reduce the data (with the associated cluster labels 0-9) into a 2-dimensional space. Plot the data with labels in this two dimensional space (labels can be colors, shapes, or using the actual numbers to represent the data - definitely include a legend in your plot).\n",
    "\n",
    "**(b)** Create a plot showing the cumulative fraction of variance explained as you incorporate from $1$ through all $D$ principal components of the data (where $D$ is the dimensionality of the data). \n",
    "- What fraction of variance in the data is UNEXPLAINED by the first two principal components of the data? \n",
    "- Briefly comment on how this may impact how well-clustered the data are. \n",
    "*You can use the `explained_variance_` attribute of the PCA module in `scikit-learn` to assist with this question*\n",
    "\n",
    "**(c)** Reduce the dimensionality of the data with t-SNE for data visualization. T-distributed stochastic neighborhood embedding (t-SNE) is a nonlinear dimensionality reduction technique that is particularly adept at embedding the data into lower 2 or 3 dimensional spaces. Apply t-SNE using the `scikit-learn` implementation to the digits dataset and plot it in 2-dimensions (with associated cluster labels 0-9). You may need to adjust the parameters to get acceptable performance. You can read more about how to use t-SNE effectively [here](https://distill.pub/2016/misread-tsne/).\n",
    "\n",
    "**(d)** Briefy compare/contrast the performance of these two techniques. \n",
    "- Which seemed to cluster the data best and why?\n",
    "- Notice that t-SNE doesn't have a `fit` method, but only a `fit_transform` method. Why is this? What implications does this imply for using this method?\n",
    "*Note: Remember that you typically will not have labels available in most problems.*\n",
    "\n",
    "Code is provided for loading the data below."
   ]
  },
  {
   "cell_type": "code",
   "execution_count": null,
   "metadata": {},
   "outputs": [],
   "source": [
    "################################\n",
    "# Load the data\n",
    "################################\n",
    "from sklearn import datasets\n",
    "from sklearn.decomposition import PCA\n",
    "from sklearn.manifold import TSNE\n",
    "\n",
    "# load dataset\n",
    "digits = datasets.load_digits()\n",
    "n_sample = digits.target.shape[0]\n",
    "n_feature = digits.images.shape[1] * digits.images.shape[2]\n",
    "X_digits = np.zeros((n_sample, n_feature))\n",
    "for i in range(n_sample):\n",
    "    X_digits[i, :] = digits.images[i, :, :].flatten()\n",
    "y_digits = digits.target"
   ]
  },
  {
   "cell_type": "markdown",
   "metadata": {},
   "source": [
    "**ANSWER**"
   ]
  }
 ],
 "metadata": {
  "anaconda-cloud": {},
  "kernelspec": {
   "display_name": "Python 3",
   "language": "python",
   "name": "python3"
  },
  "language_info": {
   "codemirror_mode": {
    "name": "ipython",
    "version": 3
   },
   "file_extension": ".py",
   "mimetype": "text/x-python",
   "name": "python",
   "nbconvert_exporter": "python",
   "pygments_lexer": "ipython3",
   "version": "3.8.5"
  },
  "nteract": {
   "version": "0.22.0"
  },
  "varInspector": {
   "cols": {
    "lenName": 16,
    "lenType": 16,
    "lenVar": 40
   },
   "kernels_config": {
    "python": {
     "delete_cmd_postfix": "",
     "delete_cmd_prefix": "del ",
     "library": "var_list.py",
     "varRefreshCmd": "print(var_dic_list())"
    },
    "r": {
     "delete_cmd_postfix": ") ",
     "delete_cmd_prefix": "rm(",
     "library": "var_list.r",
     "varRefreshCmd": "cat(var_dic_list()) "
    }
   },
   "position": {
    "height": "644px",
    "left": "1473px",
    "right": "20px",
    "top": "122px",
    "width": "367px"
   },
   "types_to_exclude": [
    "module",
    "function",
    "builtin_function_or_method",
    "instance",
    "_Feature"
   ],
   "window_display": false
  }
 },
 "nbformat": 4,
 "nbformat_minor": 4
}
